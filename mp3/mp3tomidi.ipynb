{
 "cells": [
  {
   "cell_type": "code",
   "execution_count": null,
   "metadata": {},
   "outputs": [],
   "source": [
    "from basic_pitch.inference import predict_and_save\n",
    "\n",
    "predict_and_save(\n",
    "    <input-audio-path-list>,\n",
    "    <output-directory>,\n",
    "    <save-midi>,\n",
    "    <sonify-midi>,\n",
    "    <save-model-outputs>,\n",
    "    <save-notes>,\n",
    ")"
   ]
  },
  {
   "cell_type": "code",
   "execution_count": 4,
   "metadata": {},
   "outputs": [
    {
     "ename": "ModuleNotFoundError",
     "evalue": "No module named 'basic_pitch'",
     "output_type": "error",
     "traceback": [
      "\u001b[0;31m---------------------------------------------------------------------------\u001b[0m",
      "\u001b[0;31mModuleNotFoundError\u001b[0m                       Traceback (most recent call last)",
      "Cell \u001b[0;32mIn[4], line 1\u001b[0m\n\u001b[0;32m----> 1\u001b[0m \u001b[39mfrom\u001b[39;00m \u001b[39mbasic_pitch\u001b[39;00m\u001b[39m.\u001b[39;00m\u001b[39minference\u001b[39;00m \u001b[39mimport\u001b[39;00m predict_and_save\n\u001b[1;32m      3\u001b[0m \u001b[39mdef\u001b[39;00m \u001b[39mconvert_mp3_to_midi\u001b[39m(mp3_file, output_directory):\n\u001b[1;32m      4\u001b[0m \u001b[39m  \u001b[39m\u001b[39m\"\"\"Converts an MP3 file to a MIDI file and saves it to the specified output directory.\u001b[39;00m\n\u001b[1;32m      5\u001b[0m \n\u001b[1;32m      6\u001b[0m \u001b[39m  Args:\u001b[39;00m\n\u001b[1;32m      7\u001b[0m \u001b[39m    mp3_file: The path to the MP3 file to convert.\u001b[39;00m\n\u001b[1;32m      8\u001b[0m \u001b[39m    output_directory: The path to the output directory where the MIDI file will be saved.\u001b[39;00m\n\u001b[1;32m      9\u001b[0m \u001b[39m  \"\"\"\u001b[39;00m\n",
      "\u001b[0;31mModuleNotFoundError\u001b[0m: No module named 'basic_pitch'"
     ]
    }
   ],
   "source": [
    "from basic_pitch.inference import predict_and_save\n",
    "\n",
    "def convert_mp3_to_midi(mp3_file, output_directory):\n",
    "  \"\"\"Converts an MP3 file to a MIDI file and saves it to the specified output directory.\n",
    "\n",
    "  Args:\n",
    "    mp3_file: The path to the MP3 file to convert.\n",
    "    output_directory: The path to the output directory where the MIDI file will be saved.\n",
    "  \"\"\"\n",
    "\n",
    "  predict_and_save(\n",
    "      input_audio_path_list=[mp3_file],\n",
    "      output_directory=output_directory,\n",
    "      save_midi=True)\n",
    "\n",
    "if __name__ == \"__main__\":\n",
    "  # Get the path to the MP3 file to convert.\n",
    "  mp3_file = \"Awake (Bonus Track instrumental).mp3\"\n",
    "\n",
    "  # Get the path to the output directory where the MIDI file will be saved.\n",
    "  output_directory = \"../midi/\"\n",
    "\n",
    "  # Convert the MP3 file to a MIDI file and save it to the output directory.\n",
    "  convert_mp3_to_midi(mp3_file, output_directory)\n"
   ]
  }
 ],
 "metadata": {
  "kernelspec": {
   "display_name": "deepL",
   "language": "python",
   "name": "python3"
  },
  "language_info": {
   "codemirror_mode": {
    "name": "ipython",
    "version": 3
   },
   "file_extension": ".py",
   "mimetype": "text/x-python",
   "name": "python",
   "nbconvert_exporter": "python",
   "pygments_lexer": "ipython3",
   "version": "3.11.4"
  },
  "orig_nbformat": 4
 },
 "nbformat": 4,
 "nbformat_minor": 2
}
